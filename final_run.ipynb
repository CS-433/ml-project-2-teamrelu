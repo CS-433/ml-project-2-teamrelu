{
 "cells": [
  {
   "cell_type": "code",
   "execution_count": null,
   "metadata": {
    "vscode": {
     "languageId": "plaintext"
    }
   },
   "outputs": [],
   "source": [
    "import "
   ]
  },
  {
   "cell_type": "markdown",
   "metadata": {},
   "source": [
    "# Static Model"
   ]
  },
  {
   "cell_type": "code",
   "execution_count": null,
   "metadata": {
    "vscode": {
     "languageId": "plaintext"
    }
   },
   "outputs": [],
   "source": [
    "# Initialize random seed\n",
    "seed = 30026\n",
    "torch.manual_seed(seed)\n",
    "torch.cuda.manual_seed(seed)\n",
    "\n",
    "# Define data of the problem\n",
    "num_classes = 15\n",
    "num_timesteps = 5\n",
    "\n",
    "# Decide whever to be verbose with display outputs and set device\n",
    "verbose = True\n",
    "device = torch.device(\"cuda\" if torch.cuda.is_available() else \"cpu\")"
   ]
  },
  {
   "cell_type": "code",
   "execution_count": null,
   "metadata": {
    "vscode": {
     "languageId": "plaintext"
    }
   },
   "outputs": [],
   "source": [
    "# Define hyperparameters\n",
    "with open('hyperparameters.json', 'r') as file:\n",
    "    params = json.load(file)\n",
    "\n",
    "static_params = params[\"static_model\"]\n",
    "dynamic_params = params[\"dynamic_model\"]\n",
    "\n",
    "# Load file\n",
    "data = pd.read_csv(params[\"file_path\"])"
   ]
  },
  {
   "cell_type": "code",
   "execution_count": null,
   "metadata": {
    "vscode": {
     "languageId": "plaintext"
    }
   },
   "outputs": [],
   "source": [
    "# Split dataset in train and test sets keeping balance for the static label localization\n",
    "data_train, data_test = train_test_split(data, test_size=params[\"test_size\"], random_state=seed, stratify = data['static_localization'])\n",
    "\n",
    "# Create dataloaders\n",
    "dataloader_train, dataloader_test = create_data_loaders(data_train, data_test,params[\"batch_size\"])"
   ]
  },
  {
   "cell_type": "code",
   "execution_count": null,
   "metadata": {
    "vscode": {
     "languageId": "plaintext"
    }
   },
   "outputs": [],
   "source": []
  }
 ],
 "metadata": {
  "language_info": {
   "name": "python"
  }
 },
 "nbformat": 4,
 "nbformat_minor": 2
}
